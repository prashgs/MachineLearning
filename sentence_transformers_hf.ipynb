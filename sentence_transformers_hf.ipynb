{
  "nbformat": 4,
  "nbformat_minor": 0,
  "metadata": {
    "colab": {
      "provenance": [],
      "gpuType": "T4",
      "authorship_tag": "ABX9TyMCNW7+AoTSRcPbot9hdRwf",
      "include_colab_link": true
    },
    "kernelspec": {
      "name": "python3",
      "display_name": "Python 3"
    },
    "language_info": {
      "name": "python"
    },
    "accelerator": "GPU"
  },
  "cells": [
    {
      "cell_type": "markdown",
      "metadata": {
        "id": "view-in-github",
        "colab_type": "text"
      },
      "source": [
        "<a href=\"https://colab.research.google.com/github/prashgs/MachineLearning/blob/main/sentence_transformers_hf.ipynb\" target=\"_parent\"><img src=\"https://colab.research.google.com/assets/colab-badge.svg\" alt=\"Open In Colab\"/></a>"
      ]
    },
    {
      "cell_type": "code",
      "source": [
        "#pip install -U sentence-transformers"
      ],
      "metadata": {
        "id": "UsCLerHLncn2"
      },
      "execution_count": 1,
      "outputs": []
    },
    {
      "cell_type": "markdown",
      "source": [
        "#Sentence Transformers"
      ],
      "metadata": {
        "id": "00l8gKZFsaa6"
      }
    },
    {
      "cell_type": "code",
      "execution_count": 77,
      "metadata": {
        "id": "W6rt27OtkizP"
      },
      "outputs": [],
      "source": [
        "from sentence_transformers import SentenceTransformer, SimilarityFunction\n",
        "\n",
        "# 1. Load a pretrained Sentence Transformer model\n",
        "model = SentenceTransformer(\"all-MiniLM-L6-v2\")\n",
        "\n",
        "\n"
      ]
    },
    {
      "cell_type": "code",
      "source": [
        "# Two lists of sentences\n",
        "sentences1 = \"\"\"\n",
        "The quick brown fox jumps over the lazy dog. This is a test sentence.\"\"\"\n",
        "\n",
        "sentences2 = \"\"\"\n",
        "A swift brown fox leaps over the indolent canine. Here's another test.\n",
        "\n",
        "\"\"\"\n",
        "# Compute embeddings for both lists\n",
        "embeddings1 = model.encode(sentences1)\n",
        "embeddings2 = model.encode(sentences2)\n",
        "\n",
        "# Compute cosine similarities\n",
        "similarities = model.similarity(embeddings1, embeddings2)\n",
        "\n",
        "similarities\n"
      ],
      "metadata": {
        "colab": {
          "base_uri": "https://localhost:8080/"
        },
        "id": "BTFLq4y2oIfG",
        "outputId": "caaeb5de-4dfd-400b-96d0-d45f6b92ca98"
      },
      "execution_count": 78,
      "outputs": [
        {
          "output_type": "execute_result",
          "data": {
            "text/plain": [
              "tensor([[0.7730]])"
            ]
          },
          "metadata": {},
          "execution_count": 78
        }
      ]
    },
    {
      "cell_type": "markdown",
      "source": [
        "#HuggingFace Sentence transformers"
      ],
      "metadata": {
        "id": "DmlAU3d2zR6x"
      }
    },
    {
      "cell_type": "code",
      "source": [
        "from transformers import AutoTokenizer, AutoModel\n",
        "import torch\n",
        "import torch.nn.functional as F\n",
        "from sklearn.metrics.pairwise import cosine_similarity\n"
      ],
      "metadata": {
        "id": "mU9oq0MMzRDd"
      },
      "execution_count": 79,
      "outputs": []
    },
    {
      "cell_type": "code",
      "source": [
        "#Mean Pooling - Take attention mask into account for correct averaging\n",
        "def mean_pooling(model_output, attention_mask):\n",
        "    token_embeddings = model_output[0] #First element of model_output contains all token embeddings\n",
        "    input_mask_expanded = attention_mask.unsqueeze(-1).expand(token_embeddings.size()).float()\n",
        "    return torch.sum(token_embeddings * input_mask_expanded, 1) / torch.clamp(input_mask_expanded.sum(1), min=1e-9)\n"
      ],
      "metadata": {
        "id": "wnc2VGIgzQul"
      },
      "execution_count": 80,
      "outputs": []
    },
    {
      "cell_type": "code",
      "source": [
        "# Sentences we want sentence embeddings for\n",
        "sentences = [\"The quick brown fox jumps over the lazy dog. This is a test sentence.\", \"A swift brown fox leaps over the indolent canine. Here's another test.\"]\n",
        "\n",
        "# Load model from HuggingFace Hub\n",
        "tokenizer = AutoTokenizer.from_pretrained('sentence-transformers/all-MiniLM-L6-v2')\n",
        "model = AutoModel.from_pretrained('sentence-transformers/all-MiniLM-L6-v2')\n",
        "\n",
        "# Tokenize sentences\n",
        "encoded_input = tokenizer(sentences, padding=True, truncation=True, return_tensors='pt')\n",
        "\n",
        "# Compute token embeddings\n",
        "with torch.no_grad():\n",
        "    model_output = model(**encoded_input)\n",
        "\n",
        "# Perform pooling\n",
        "sentence_embeddings = mean_pooling(model_output, encoded_input['attention_mask'])\n",
        "\n",
        "# Normalize embeddings\n",
        "sentence_embeddings = F.normalize(sentence_embeddings, p=2, dim=1)\n"
      ],
      "metadata": {
        "id": "zYgA0vLHzrnR"
      },
      "execution_count": 81,
      "outputs": []
    },
    {
      "cell_type": "code",
      "source": [
        "# prompt: Compare embeddings in sentence_embeddings\n",
        "\n",
        "# Compute cosine similarities using sklearn\n",
        "similarities_sklearn = cosine_similarity(sentence_embeddings[0].reshape(1,-1), sentence_embeddings[1].reshape(1,-1))\n",
        "print(f\"Cosine Similarity using sklearn: {similarities_sklearn[0][0]}\")\n",
        "print(f\"Cosine Similarity using Sentence Transformers library: {similarities}\")\n"
      ],
      "metadata": {
        "colab": {
          "base_uri": "https://localhost:8080/"
        },
        "id": "zRPwplfA0F2y",
        "outputId": "e3c3bc71-468b-4b20-ce30-c988dc363073"
      },
      "execution_count": 82,
      "outputs": [
        {
          "output_type": "stream",
          "name": "stdout",
          "text": [
            "Cosine Similarity using sklearn: 0.7729694247245789\n",
            "Cosine Similarity using Sentence Transformers library: tensor([[0.7730]])\n"
          ]
        }
      ]
    },
    {
      "cell_type": "markdown",
      "source": [
        "#Huggingface\n",
        "\n"
      ],
      "metadata": {
        "id": "FLPQaG9esfgm"
      }
    },
    {
      "cell_type": "code",
      "source": [
        "from transformers import AutoTokenizer, AutoModel\n",
        "import torch\n",
        "from torch.nn.functional import cosine_similarity\n",
        "\n",
        "def get_paragraph_embedding(paragraph, model, tokenizer):\n",
        "    \"\"\"Generates a sentence embedding for a given paragraph.\"\"\"\n",
        "    inputs = tokenizer(paragraph, return_tensors=\"pt\", padding=True, truncation=True, max_length=512)\n",
        "    with torch.no_grad():\n",
        "        outputs = model(**inputs)\n",
        "    embeddings = outputs.last_hidden_state.mean(dim=1)  # Mean pooling\n",
        "    return embeddings\n",
        "\n",
        "def compare_paragraphs(paragraph1, paragraph2, model_name=\"sentence-transformers/all-mpnet-base-v2\"):\n",
        "    \"\"\"Compares two paragraphs using a Hugging Face model and cosine similarity.\"\"\"\n",
        "\n",
        "    tokenizer = AutoTokenizer.from_pretrained(model_name)\n",
        "    model = AutoModel.from_pretrained(model_name)\n",
        "\n",
        "    embedding1 = get_paragraph_embedding(paragraph1, model, tokenizer)\n",
        "    embedding2 = get_paragraph_embedding(paragraph2, model, tokenizer)\n",
        "\n",
        "    similarity_score = cosine_similarity(embedding1, embedding2).item()\n",
        "\n",
        "    return similarity_score\n",
        "\n",
        "\n"
      ],
      "metadata": {
        "id": "3SS0k6PuoJIA"
      },
      "execution_count": 83,
      "outputs": []
    },
    {
      "cell_type": "code",
      "source": [
        "\n",
        "paragraph1 = \"The quick brown fox jumps over the lazy dog. This is a test sentence.\"\n",
        "paragraph2 = \"A swift brown fox leaps over the indolent canine. Here's another test.\"\n",
        "paragraph3 = \"The weather is nice today. Let's go for a walk.\"\n",
        "\n",
        "similarity_1_2 = compare_paragraphs(paragraph1, paragraph2)\n",
        "similarity_1_3 = compare_paragraphs(paragraph1, paragraph3)\n",
        "\n",
        "print(f\"Similarity between paragraph 1 and 2: {similarity_1_2}\")\n",
        "print(f\"Similarity between paragraph 1 and 3: {similarity_1_3}\")\n",
        "\n",
        "#Example using a different model.\n",
        "similarity_1_2_bert = compare_paragraphs(paragraph1, paragraph2, model_name=\"google-bert/bert-base-uncased\")\n",
        "print(f\"Similarity between paragraph 1 and 2 (BERT): {similarity_1_2_bert}\")\n",
        "\n",
        "#Example using a different model.\n",
        "similarity_1_3_bert = compare_paragraphs(paragraph1, paragraph3, model_name=\"google-bert/bert-base-uncased\")\n",
        "print(f\"Similarity between paragraph 1 and 3 (BERT): {similarity_1_3_bert}\")\n",
        "\n",
        "#Example using a different model.\n",
        "similarity_1_2_bert = compare_paragraphs(paragraph1, paragraph2, model_name=\"sentence-transformers/all-MiniLM-L6-v2\")\n",
        "print(f\"Similarity between paragraph 1 and 2 (BERT): {similarity_1_2_bert}\")\n",
        "\n",
        "#Example using a different model.\n",
        "similarity_1_3_bert = compare_paragraphs(paragraph1, paragraph3, model_name=\"sentence-transformers/all-MiniLM-L6-v2\")\n",
        "print(f\"Similarity between paragraph 1 and 3 (BERT): {similarity_1_3_bert}\")"
      ],
      "metadata": {
        "colab": {
          "base_uri": "https://localhost:8080/"
        },
        "id": "1YbeHLuVsqrJ",
        "outputId": "61fff697-9e95-4ca1-b390-05b867ea9f91"
      },
      "execution_count": 85,
      "outputs": [
        {
          "output_type": "stream",
          "name": "stdout",
          "text": [
            "Similarity between paragraph 1 and 2: 0.7782570719718933\n",
            "Similarity between paragraph 1 and 3: 0.12652546167373657\n",
            "Similarity between paragraph 1 and 2 (BERT): 0.8255898952484131\n",
            "Similarity between paragraph 1 and 3 (BERT): 0.48839324712753296\n",
            "Similarity between paragraph 1 and 2 (BERT): 0.7729693651199341\n",
            "Similarity between paragraph 1 and 3 (BERT): 0.09579998254776001\n"
          ]
        }
      ]
    },
    {
      "cell_type": "code",
      "source": [],
      "metadata": {
        "id": "LkxKd9F9svnA"
      },
      "execution_count": 84,
      "outputs": []
    }
  ]
}